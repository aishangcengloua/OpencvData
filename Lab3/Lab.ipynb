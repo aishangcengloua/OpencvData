{
 "cells": [
  {
   "cell_type": "code",
   "execution_count": 232,
   "id": "921b1ef2",
   "metadata": {},
   "outputs": [
    {
     "name": "stdout",
     "output_type": "stream",
     "text": [
      "Using matplotlib backend: Qt5Agg\n"
     ]
    }
   ],
   "source": [
    "import cv2 as cv\n",
    "import numpy as np\n",
    "import matplotlib.pyplot as plt\n",
    "%matplotlib\n",
    "\n",
    "img = cv.imread('images/house.jpg', cv.IMREAD_GRAYSCALE)\n",
    "# img = cv.resize(img, (700, 500))\n",
    "plt.hist(img.ravel(), bins = 255)\n",
    "plt.show()\n",
    "\n",
    "res, img1 = cv.threshold(img, 100, 255, cv.THRESH_BINARY_INV)\n",
    "res, img2 = cv.threshold(img, 100, 255, cv.THRESH_TRUNC)\n",
    "res, img3 = cv.threshold(img, 100, 255, cv.THRESH_TOZERO)\n",
    "\n",
    "plt.figure()\n",
    "images = [img, img1, img2, img3]\n",
    "title = ['house', 'THRESH_BINARY_INV', 'THRESH_TRUNC', 'THRESH_TOZERO']\n",
    "for i in range(4) :\n",
    "    plt.subplot(2, 2, i + 1)\n",
    "    plt.imshow(images[i], 'gray')\n",
    "    plt.title(title[i])\n",
    "    plt.tight_layout()\n",
    "    plt.xticks([]), plt.yticks([])\n",
    "plt.show()"
   ]
  },
  {
   "cell_type": "code",
   "execution_count": 233,
   "id": "ef8ea38e",
   "metadata": {},
   "outputs": [
    {
     "name": "stdout",
     "output_type": "stream",
     "text": [
      "Using matplotlib backend: Qt5Agg\n"
     ]
    }
   ],
   "source": [
    "import cv2 as cv\n",
    "import numpy as np\n",
    "import matplotlib.pyplot as plt\n",
    "%matplotlib\n",
    "img = cv.imread('images/wall.png', cv.IMREAD_GRAYSCALE)\n",
    "kernel = np.ones((10, 10)).astype(np.int32)\n",
    "Tophat = cv.morphologyEx(img, cv.MORPH_TOPHAT, kernel)\n",
    "Blackhat = cv.morphologyEx(img, cv.MORPH_BLACKHAT, kernel)\n",
    "title = ['Wall', 'TopHat', 'BlackHat']\n",
    "images = [img, Tophat, Blackhat]\n",
    "for i in range(3) :\n",
    "    plt.subplot(1, 3, i + 1)\n",
    "    plt.imshow(images[i], 'gray')\n",
    "    plt.title(title[i])\n",
    "    plt.tight_layout()\n",
    "    plt.xticks([]), plt.yticks([])\n",
    "plt.show()"
   ]
  },
  {
   "cell_type": "code",
   "execution_count": 234,
   "id": "15b0a08b",
   "metadata": {},
   "outputs": [
    {
     "name": "stdout",
     "output_type": "stream",
     "text": [
      "Using matplotlib backend: Qt5Agg\n"
     ]
    }
   ],
   "source": [
    "import cv2 as cv \n",
    "import matplotlib.pyplot as plt\n",
    "import numpy as np\n",
    "%matplotlib\n",
    "img = cv.imread('images/morph_test.png', cv.IMREAD_GRAYSCALE)\n",
    "kernel = np.ones((7, 7)).astype(np.int32)\n",
    "img1 = cv.morphologyEx(img, cv.MORPH_CLOSE, kernel)\n",
    "img2 = cv.bitwise_xor(img, img1)\n",
    "title = ['Original', 'Denoising', 'Defect']\n",
    "images = [img, img1, img2]\n",
    "for i in range(3) :\n",
    "    plt.subplot(1, 3, i + 1)\n",
    "    plt.imshow(images[i], 'gray')\n",
    "    plt.title(title[i])\n",
    "    plt.tight_layout()\n",
    "    plt.xticks([]), plt.yticks([])\n",
    "plt.show()"
   ]
  },
  {
   "cell_type": "code",
   "execution_count": 235,
   "id": "5c8df1bc",
   "metadata": {},
   "outputs": [
    {
     "name": "stdout",
     "output_type": "stream",
     "text": [
      "Using matplotlib backend: Qt5Agg\n",
      "thd : 97, ret : 97.0\n"
     ]
    }
   ],
   "source": [
    "import copy \n",
    "import cv2 as cv \n",
    "import matplotlib.pyplot as plt\n",
    "import numpy as np\n",
    "%matplotlib\n",
    "\n",
    "house = cv.imread('images/house.jpg', cv.IMREAD_GRAYSCALE)\n",
    "house = cv.resize(house, (700, 500))\n",
    "def P3_1(img) :\n",
    "    cimg = copy.deepcopy(img)\n",
    "    Res = np.ones(255)\n",
    "    std = np.zeros(255)\n",
    "    for thd in range(0, 255) :\n",
    "        arr1 = cimg[np.where(img > thd)]\n",
    "        arr2 = cimg[np.where(img <= thd)]\n",
    "        w1 = len(arr1)\n",
    "        w2 = len(arr2)\n",
    "        m1 = np.sum(arr1) / w1\n",
    "        m2 = np.sum(arr2) / w2\n",
    "        m = (m1 * w1 + m2 * w2) / (w1 + w2)\n",
    "        #组内方差和\n",
    "        std_ingroud = np.sum(np.square(arr1 - m1)) + np.sum(np.square(arr2 - m2))\n",
    "        #组间方差和\n",
    "        std_outgroud = (m1 - m) * (m1 - m) * w1 + (m2 - m) * ( m2 - m) * w2\n",
    "        #同时考虑组内和组间方差，当组内方差越小、组间方差越大时效果越好。\n",
    "        res = std_outgroud / std_ingroud\n",
    "        std[thd] = std_outgroud\n",
    "        Res[thd] = res\n",
    "    plt.plot(list(range(255)), Res, 'r-')\n",
    "    plt.show()\n",
    "    thd = np.argmax(Res[ : ])\n",
    "    cimg[np.where(cimg >= thd)] = 255\n",
    "    cimg[np.where(cimg < thd)] = 0\n",
    "    return cimg, thd\n",
    "        \n",
    "img2, thd = P3_1(house)\n",
    "ret, img3 = cv.threshold(house, 0, 255, cv.THRESH_BINARY + cv.THRESH_OTSU)\n",
    "\n",
    "images = [house, img2, img3]\n",
    "title = ['original', f'my threshold {thd}', f'cv threshold {int(ret)}']\n",
    "for i in range(3) :\n",
    "    plt.subplot(1, 3, i + 1)\n",
    "    plt.imshow(images[i], 'gray')\n",
    "    plt.title(title[i])\n",
    "    plt.xticks([]), plt.yticks([])\n",
    "    plt.tight_layout()\n",
    "plt.show()\n",
    "print(f'thd : {thd}, ret : {ret}')"
   ]
  },
  {
   "cell_type": "code",
   "execution_count": 237,
   "id": "5938505b",
   "metadata": {},
   "outputs": [
    {
     "name": "stdout",
     "output_type": "stream",
     "text": [
      "Using matplotlib backend: Qt5Agg\n",
      "焊点个数:40\n"
     ]
    },
    {
     "data": {
      "text/plain": [
       "-1"
      ]
     },
     "execution_count": 237,
     "metadata": {},
     "output_type": "execute_result"
    }
   ],
   "source": [
    "import cv2 as cv \n",
    "import matplotlib.pyplot as plt\n",
    "import numpy as np\n",
    "%matplotlib\n",
    "\n",
    "img = cv.imread('images/PCB.png', cv.IMREAD_COLOR)\n",
    "img = cv.cvtColor(img, cv.COLOR_BGR2RGB)\n",
    "r, g, b = cv.split(img)\n",
    "\n",
    "kernel1 = np.zeros((16, 16)).astype(np.int32)\n",
    "kernel2 = np.zeros((6, 6)).astype(np.int32)\n",
    "#圆心\n",
    "center_radius1 = int(16 / 2)\n",
    "center_radius2 = int(6 / 2)\n",
    "#做圆形卷积核\n",
    "cv.circle(kernel1, (center_radius1, center_radius1), center_radius1, (255, 255, 255), -1, cv.LINE_AA)\n",
    "cv.circle(kernel2, (center_radius2, center_radius2), center_radius2, (255, 255, 255), -1, cv.LINE_AA)\n",
    "\n",
    "kernel1 = kernel1.astype(np.uint8)\n",
    "kernel2 = kernel2.astype(np.uint8)\n",
    "\n",
    "_, img_binary = cv.threshold(b, 180, 255, cv.THRESH_BINARY)\n",
    "img_open = cv.morphologyEx(img_binary, cv.MORPH_OPEN, kernel2)\n",
    "img_dilate = cv.dilate(img_close, kernel1, 10)\n",
    "\n",
    "#焊点个数\n",
    "Solder_joint = 0\n",
    "#直线检测，以行为迭代对象，如果如果遇到白点则记录到直线中\n",
    "#因为焊点之间是分开的，则直线中不为零的某一段就代表一个焊点\n",
    "Detection_line = np.zeros(img_dilate.shape[1])\n",
    "for row in range(img_dilate.shape[0]) :\n",
    "    if row == img_dilate.shape[0] / 2 or row == img_dilate.shape[0] - 1:#总统计焊点两次\n",
    "        flag = 0\n",
    "        for i in range(len(Detection_line)) :\n",
    "            if Detection_line[i] == 0 and flag == 1 :#如果当前点是黑点且是由白到黑点的跨越，则代表着一个焊点\n",
    "                Solder_joint += 1\n",
    "                flag = 0\n",
    "            if Detection_line[i] != 0 :#由白点进入到黑点，记录flag为1\n",
    "                flag = 1\n",
    "        Detection_line[ : ] = 0#统计完一次黑点对直线清零\n",
    "    Detection_line = Detection_line + img_dilate[row]\n",
    "    \n",
    "print(f'焊点个数:{Solder_joint}')\n",
    "cv.imshow('img_dilate', img_dilate)\n",
    "cv.waitKey(0)"
   ]
  }
 ],
 "metadata": {
  "kernelspec": {
   "display_name": "Python 3",
   "language": "python",
   "name": "python3"
  },
  "language_info": {
   "codemirror_mode": {
    "name": "ipython",
    "version": 3
   },
   "file_extension": ".py",
   "mimetype": "text/x-python",
   "name": "python",
   "nbconvert_exporter": "python",
   "pygments_lexer": "ipython3",
   "version": "3.8.8"
  },
  "toc": {
   "base_numbering": 1,
   "nav_menu": {},
   "number_sections": true,
   "sideBar": true,
   "skip_h1_title": false,
   "title_cell": "Table of Contents",
   "title_sidebar": "Contents",
   "toc_cell": false,
   "toc_position": {},
   "toc_section_display": true,
   "toc_window_display": false
  }
 },
 "nbformat": 4,
 "nbformat_minor": 5
}
