{
 "cells": [
  {
   "cell_type": "code",
   "execution_count": 2,
   "id": "14bfb18a",
   "metadata": {},
   "outputs": [
    {
     "name": "stderr",
     "output_type": "stream",
     "text": [
      "<ipython-input-2-ab9001349ddf>:9: DeprecationWarning: `np.float` is a deprecated alias for the builtin `float`. To silence this warning, use `float` by itself. Doing this will not modify any behavior and is safe. If you specifically wanted the numpy scalar type, use `np.float64` here.\n",
      "Deprecated in NumPy 1.20; for more details and guidance: https://numpy.org/devdocs/release/1.20.0-notes.html#deprecations\n",
      "  cimage = copy.deepcopy(Image1).astype(np.float)\n"
     ]
    },
    {
     "name": "stdout",
     "output_type": "stream",
     "text": [
      "[[243. 243. 243. ...  96.  96.  98.]\n",
      " [243. 243. 244. ...  97.  98.  99.]\n",
      " [240. 242. 242. ...  99.  98. 100.]\n",
      " ...\n",
      " [  9.  10.  23. ...  41.  43.  54.]\n",
      " [  6.  10.  16. ...  37.  45.  53.]\n",
      " [  6.   9.  15. ...  32.  38.  45.]]\n"
     ]
    },
    {
     "data": {
      "text/plain": [
       "-1"
      ]
     },
     "execution_count": 2,
     "metadata": {},
     "output_type": "execute_result"
    }
   ],
   "source": [
    "import numpy as np\n",
    "import cv2 as cv\n",
    "import copy\n",
    "\n",
    "Image1 = cv.imread('data/shenzhen_gray.bmp', cv.IMREAD_GRAYSCALE)\n",
    "# print(Image1.shape)\n",
    "# gimage = cv.cvtColor(Image1, cv.COLOR_GRAY2BGR)\n",
    "# print(gimage.shape)\n",
    "cimage = copy.deepcopy(Image1).astype(np.float)\n",
    "for i in range(cimage.shape[0]) :\n",
    "    for j in range(cimage.shape[1]) :\n",
    "        if cimage[i][j] < 90 :\n",
    "            cimage[i][j] = 0.2 * cimage[i][j]\n",
    "        elif 90 < cimage[i][j] < 160 :\n",
    "            cimage[i][j] = 3 * cimage[i][j]\n",
    "        else :\n",
    "            cimage[i][j] = 0.8  * cimage[i][j]\n",
    "cimage = cimage.astype(np.uint8)\n",
    "cv.imshow('cimage', cimage)\n",
    "cv.imshow('Image1', Image1)\n",
    "cv.waitKey()"
   ]
  }
 ],
 "metadata": {
  "kernelspec": {
   "display_name": "Python 3",
   "language": "python",
   "name": "python3"
  },
  "language_info": {
   "codemirror_mode": {
    "name": "ipython",
    "version": 3
   },
   "file_extension": ".py",
   "mimetype": "text/x-python",
   "name": "python",
   "nbconvert_exporter": "python",
   "pygments_lexer": "ipython3",
   "version": "3.8.8"
  },
  "toc": {
   "base_numbering": 1,
   "nav_menu": {},
   "number_sections": true,
   "sideBar": true,
   "skip_h1_title": false,
   "title_cell": "Table of Contents",
   "title_sidebar": "Contents",
   "toc_cell": false,
   "toc_position": {},
   "toc_section_display": true,
   "toc_window_display": false
  }
 },
 "nbformat": 4,
 "nbformat_minor": 5
}
