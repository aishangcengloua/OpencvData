{
 "cells": [
  {
   "cell_type": "code",
   "execution_count": 20,
   "id": "bd967a1d",
   "metadata": {},
   "outputs": [
    {
     "ename": "SyntaxError",
     "evalue": "positional argument follows keyword argument (<ipython-input-20-870b83fe0dd3>, line 17)",
     "output_type": "error",
     "traceback": [
      "\u001b[1;36m  File \u001b[1;32m\"<ipython-input-20-870b83fe0dd3>\"\u001b[1;36m, line \u001b[1;32m17\u001b[0m\n\u001b[1;33m    hist_cimage = cv.calcHist([cimage], [0], mask = None, [128], [0, 256])\u001b[0m\n\u001b[1;37m                                                          ^\u001b[0m\n\u001b[1;31mSyntaxError\u001b[0m\u001b[1;31m:\u001b[0m positional argument follows keyword argument\n"
     ]
    }
   ],
   "source": [
    "import cv2 as cv\n",
    "import matplotlib.pyplot as plt\n",
    "import copy\n",
    "import numpy as np\n",
    "\n",
    "# cv2.calcHist(images, channels, mask, histSize, ranges)\n",
    "# images 要计算直方图的原始图像\n",
    "# channels 通道，[0]:灰度直方图，[0,1,2]BGR彩色直方图\n",
    "# mask 要为某个蒙版像素计算直方图，没有可设置为None\n",
    "# histSize x轴要分的bins个数[32,32,32]，每个通道分为32个区间\n",
    "# range 可能的像素范围[0,256] 因为calHist不包含后者\n",
    "\n",
    "Image = cv.imread('data/shenzhen_gray.bmp', cv.IMREAD_GRAYSCALE)\n",
    "cimage = copy.deepcopy(Image)\n",
    "gimage = cv.equalizeHist(cimage)\n",
    "\n",
    "hist_cimage = cv.calcHist([cimage], [0], mask = None, [128], [0, 256])\n",
    "plt.plot(hist, color = 'red')\n",
    "plt.show()\n",
    "# d = cv.calcHist(hist_cimage, hist_gimage)\n",
    "\n",
    "# print(d)"
   ]
  }
 ],
 "metadata": {
  "kernelspec": {
   "display_name": "Python 3",
   "language": "python",
   "name": "python3"
  },
  "language_info": {
   "codemirror_mode": {
    "name": "ipython",
    "version": 3
   },
   "file_extension": ".py",
   "mimetype": "text/x-python",
   "name": "python",
   "nbconvert_exporter": "python",
   "pygments_lexer": "ipython3",
   "version": "3.8.8"
  },
  "toc": {
   "base_numbering": 1,
   "nav_menu": {},
   "number_sections": true,
   "sideBar": true,
   "skip_h1_title": false,
   "title_cell": "Table of Contents",
   "title_sidebar": "Contents",
   "toc_cell": false,
   "toc_position": {},
   "toc_section_display": true,
   "toc_window_display": false
  }
 },
 "nbformat": 4,
 "nbformat_minor": 5
}
