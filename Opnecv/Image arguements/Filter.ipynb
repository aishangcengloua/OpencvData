{
 "cells": [
  {
   "cell_type": "code",
   "execution_count": 11,
   "id": "a74a6ee9",
   "metadata": {},
   "outputs": [
    {
     "data": {
      "text/plain": [
       "-1"
      ]
     },
     "execution_count": 11,
     "metadata": {},
     "output_type": "execute_result"
    }
   ],
   "source": [
    "import cv2\n",
    "import copy\n",
    "import numpy as np\n",
    "def image_filter(image, filter_size) :\n",
    "    New_image = copy.deepcopy(image)\n",
    "    offset = int((filter_size - 1) / 2)\n",
    "    for r in range(offset, image.shape[0]) :#构建滤波器\n",
    "        for c in range(offset, image.shape[1]) :\n",
    "            blk = image[r - offset : r + offset + 1, c - offset : c + offset + 1]\n",
    "            #New_image[r, c] = np.median(blk)#中值滤波器\n",
    "            New_image[r, c] =np.mean(blk)#均值滤波器\n",
    "    return New_image\n",
    "\n",
    "img_clean = cv2.imread('shenzhen_gray.bmp', cv2.IMREAD_GRAYSCALE)\n",
    "img_noise = np.array(img_clean)\n",
    "for i in range(10000) :\n",
    "    xi = int(np.random.uniform(0, img_clean.shape[0]))#uniform(low, high),在此范围取值，左闭右开\n",
    "    xj = int(np.random.uniform(0, img_clean.shape[1]))\n",
    "    img_noise[xi, xj] = 255\n",
    "#result_img = cv2.medianBlur(img_noise, 3)\n",
    "result_img = cv2.blur(img_noise, (3, 3))#均值滤波器\n",
    "result_img2 = image_filter(img_noise, 3)\n",
    "cv2.imshow('noise_img', img_noise)\n",
    "cv2.imshow('result_img', result_img)\n",
    "cv2.imshow(\"result_img2\", result_img2)\n",
    "cv2.waitKey(0)"
   ]
  },
  {
   "cell_type": "code",
   "execution_count": null,
   "id": "c59240ec",
   "metadata": {},
   "outputs": [],
   "source": []
  }
 ],
 "metadata": {
  "kernelspec": {
   "display_name": "Python 3",
   "language": "python",
   "name": "python3"
  },
  "language_info": {
   "codemirror_mode": {
    "name": "ipython",
    "version": 3
   },
   "file_extension": ".py",
   "mimetype": "text/x-python",
   "name": "python",
   "nbconvert_exporter": "python",
   "pygments_lexer": "ipython3",
   "version": "3.8.8"
  },
  "toc": {
   "base_numbering": 1,
   "nav_menu": {},
   "number_sections": true,
   "sideBar": true,
   "skip_h1_title": false,
   "title_cell": "Table of Contents",
   "title_sidebar": "Contents",
   "toc_cell": false,
   "toc_position": {},
   "toc_section_display": true,
   "toc_window_display": false
  }
 },
 "nbformat": 4,
 "nbformat_minor": 5
}
