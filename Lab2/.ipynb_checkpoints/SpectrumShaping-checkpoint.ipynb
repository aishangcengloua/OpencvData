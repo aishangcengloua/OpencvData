{
 "cells": [
  {
   "cell_type": "code",
   "execution_count": 4,
   "id": "f80c12d0",
   "metadata": {},
   "outputs": [
    {
     "name": "stdout",
     "output_type": "stream",
     "text": [
      "Using matplotlib backend: Qt5Agg\n",
      "PSNR : 314.74072676917365\n"
     ]
    }
   ],
   "source": [
    "import cv2 as cv\n",
    "import numpy as np\n",
    "import matplotlib.pyplot as plt\n",
    "%matplotlib\n",
    "img = cv.imread('girl.png', cv.IMREAD_GRAYSCALE)\n",
    "F = np.fft.fft2(img)\n",
    "Fshift = np.fft.fftshift(F)\n",
    "\n",
    "#获取幅值图\n",
    "F1 = np.log(abs(F) + 1)\n",
    "Fshift1 = np.log(abs(Fshift) + 1)\n",
    "plt.figure()\n",
    "plt.subplot2grid((1, 2), (0, 0)), plt.imshow(F1, 'gray'), plt.title('no shift'), plt.axis('off')\n",
    "plt.subplot2grid((1, 2), (0, 1)), plt.imshow(Fshift1, 'gray'), plt.title('shift'), plt.axis('off')\n",
    "#获取相位图\n",
    "ph_F = np.angle(F)\n",
    "ph_Fshift = np.angle(Fshift)\n",
    "plt.figure()\n",
    "plt.subplot2grid((1, 2), (0, 0)), plt.imshow(ph_F, 'gray'), plt.title('no shift'), plt.axis('off')\n",
    "plt.subplot2grid((1, 2), (0, 1)), plt.imshow(ph_Fshift, 'gray'), plt.title('shift'), plt.axis('off')\n",
    "#重建\n",
    "img_back1 = np.fft.ifft2(F)\n",
    "img_back1 = np.abs(img_back1)\n",
    "img_back2 = np.fft.ifftshift(Fshift)\n",
    "img_back2 = np.fft.ifft2(img_back2)\n",
    "img_back2 = np.abs(img_back2)\n",
    "plt.figure()\n",
    "plt.subplot2grid((1, 3), (0, 0)), plt.imshow(img, 'gray'), plt.title('img'), plt.axis('off')\n",
    "plt.subplot2grid((1, 3), (0, 1)), plt.imshow(img_back1, 'gray'), plt.title('no_shift_back'), plt.axis('off')\n",
    "plt.subplot2grid((1, 3), (0, 2)), plt.imshow(img_back2, 'gray'), plt.title('shift_back'), plt.axis('off')\n",
    "plt.tight_layout()\n",
    "#计算PSNR差异\n",
    "MSE = np.sum(np.power((img_back2 - img), 2)) / (img.shape[0] * img.shape[1])\n",
    "PSNR = 20 * np.log10(255 / np.sqrt(MSE))\n",
    "print(f'PSNR : {PSNR}')"
   ]
  },
  {
   "cell_type": "code",
   "execution_count": 5,
   "id": "212157fe",
   "metadata": {},
   "outputs": [
    {
     "name": "stdout",
     "output_type": "stream",
     "text": [
      "Using matplotlib backend: Qt5Agg\n"
     ]
    }
   ],
   "source": [
    "import cv2 as cv\n",
    "import numpy as np\n",
    "import matplotlib.pyplot as plt\n",
    "%matplotlib\n",
    "img = cv.imread('girl.png', cv.IMREAD_GRAYSCALE)\n",
    "F = np.fft.fft2(img)\n",
    "Fshift = np.fft.fftshift(F)\n",
    "#带通滤波器构造\n",
    "mask = np.zeros(F.shape).astype(np.uint8)\n",
    "row, col = mask.shape[0], mask.shape[1]\n",
    "mask[int(row / 2) - 100 : int(row / 2) + 100, int(col / 2) - 100 : int(col / 2) + 100] = 1\n",
    "mask[int(row / 2) - 30 : int(row / 2) + 30, int(col / 2) - 30 : int(col / 2) + 30] = 0\n",
    "mask1 = mask\n",
    "\n",
    "# fig = plt.figure(figsize=(10, 5))\n",
    "Fshift = mask1 * Fshift\n",
    "img_back = np.fft.ifftshift(Fshift)\n",
    "img_back = np.fft.ifft2(img_back)\n",
    "img_back = np.abs(img_back)\n",
    "\n",
    "plt.subplot2grid((2, 2), (0, 0)), plt.imshow(img_back, 'gray'), plt.title('girl'), plt.axis('off')\n",
    "plt.subplot2grid((2, 2), (0, 1)), plt.imshow(mask1, 'gray'), plt.title('mask1')\n",
    "\n",
    "mask[int(row / 2) - 200 : int(row / 2) + 200, int(col / 2) - 200 : int(col / 2) + 200] = 1\n",
    "mask[int(row / 2) - 30 : int(row / 2) + 30, int(col / 2) - 30 : int(col / 2) + 30] = 0\n",
    "mask2 = mask\n",
    "\n",
    "Fshift = mask2 * Fshift\n",
    "img_back1 = np.fft.ifftshift(Fshift)\n",
    "img_back1 = np.fft.ifft2(img_back1)\n",
    "img_back1 = np.abs(img_back1)\n",
    "plt.subplot2grid((2, 2), (1, 0)), plt.imshow(img_back1, 'gray'), plt.title('girl'), plt.axis('off')\n",
    "plt.subplot2grid((2, 2), (1, 1)), plt.imshow(mask2, 'gray'), plt.title('mask2')\n",
    "plt.tight_layout()"
   ]
  },
  {
   "cell_type": "code",
   "execution_count": 10,
   "id": "7ddbaa39",
   "metadata": {},
   "outputs": [
    {
     "name": "stdout",
     "output_type": "stream",
     "text": [
      "Using matplotlib backend: Qt5Agg\n"
     ]
    }
   ],
   "source": [
    "import cv2 as cv\n",
    "import numpy as np\n",
    "import matplotlib.pyplot as plt\n",
    "%matplotlib\n",
    "\n",
    "img = cv.imread('girl.png', cv.IMREAD_GRAYSCALE)\n",
    "F = np.fft.fft2(img)\n",
    "Fshift = np.fft.fftshift(F)\n",
    "\n",
    "#高斯高通滤波器构造\n",
    "sigema1 = 0.05\n",
    "#注意不能取uint8型数据\n",
    "mask1 = np.zeros(img.shape)\n",
    "\n",
    "for i in range(img.shape[0]) :\n",
    "    for j in range(img.shape[1]) :\n",
    "        mask1[i][j] = 1 - np.exp((-np.square(i - int(mask1.shape[0] / 2)) - np.square(j - int(mask1.shape[1] / 2))) / 2 * sigema1 ** 2)\n",
    "\n",
    "Fshift = mask1 * Fshift\n",
    "img_back = np.fft.ifftshift(Fshift)\n",
    "img_back = np.fft.ifft2(img_back)\n",
    "img_back = np.abs(img_back)\n",
    "plt.subplot2grid((2, 2), (0, 0)), plt.imshow(mask1, 'gray'), plt.title('sigema : 0.05')\n",
    "plt.subplot2grid((2, 2), (0, 1)), plt.imshow(img_back, 'gray'), plt.title('girl'), plt.axis('off')\n",
    "\n",
    "sigema2 = 0.02\n",
    "#注意不能取uint8型数据\n",
    "mask2 = np.zeros(img.shape)\n",
    "\n",
    "for i in range(img.shape[0]) :\n",
    "    for j in range(img.shape[1]) :\n",
    "        mask2[i][j] = 1 - np.exp((-np.square(i - int(mask2.shape[0] / 2)) - np.square(j - int(mask2.shape[1] / 2))) / 2 * sigema2 ** 2)\n",
    "\n",
    "Fshift = mask2 * Fshift\n",
    "img_back = np.fft.ifftshift(Fshift)\n",
    "img_back = np.fft.ifft2(img_back)\n",
    "img_back = np.abs(img_back)\n",
    "plt.subplot2grid((2, 2), (1, 0)), plt.imshow(mask2, 'gray'), plt.title('sigema : 0.02')\n",
    "plt.subplot2grid((2, 2), (1, 1)), plt.imshow(img_back, 'gray'), plt.title('girl'), plt.axis('off')\n",
    "plt.tight_layout()"
   ]
  },
  {
   "cell_type": "code",
   "execution_count": 12,
   "id": "97a3e7d0",
   "metadata": {},
   "outputs": [
    {
     "name": "stdout",
     "output_type": "stream",
     "text": [
      "The extracted student number is as follows : 2020281024\n"
     ]
    }
   ],
   "source": [
    "import cv2 as cv\n",
    "def P2_4_encode(img,  idNumber) :\n",
    "    mask = np.zeros(img.shape).astype(np.uint8)\n",
    "    mask[ : ,  : ] = 254\n",
    "    img = cv.bitwise_and(img, mask)\n",
    "    row, col = img.shape[0], img.shape[1]\n",
    "    img = img.ravel()\n",
    "    New_idNumnber = []\n",
    "    idNumber = list(idNumber)\n",
    "    for i in range(len(idNumber)) :\n",
    "        idNumber[i] = str(bin(int(idNumber[i])).replace('0b', ''))\n",
    "        idNumber[i] = list(idNumber[i])\n",
    "        if len(idNumber[i]) == 1 :\n",
    "            for k in range(3) :\n",
    "                idNumber[i].insert(0, '0')\n",
    "        elif len(idNumber[i]) == 2 :\n",
    "            for k in range(2) :\n",
    "                idNumber[i].insert(0, '0')\n",
    "        elif len(idNumber[i]) == 3 :\n",
    "            idNumber[i].insert(0, '0')\n",
    "        New_idNumnber.extend(idNumber[i])\n",
    "    for i in range(len(New_idNumnber)) :\n",
    "        img[i] = img[i] | int(New_idNumnber[i])\n",
    "    img = img.reshape(row,col)\n",
    "    return img\n",
    "\n",
    "def P2_4_decode(img) :\n",
    "    img = img.ravel()\n",
    "    idNumber = []\n",
    "    tmp_idNumber = []\n",
    "    count = 0\n",
    "    for i in range(length) :\n",
    "        tmp_idNumber.append(img[i] & 1)\n",
    "        count += 1 \n",
    "        if count == 4 :\n",
    "            count = 0\n",
    "            idNumber.append(\"\".join(map(str, tmp_idNumber)))\n",
    "            tmp_idNumber = []\n",
    "    for i in range(len(idNumber)) :\n",
    "        idNumber[i] = int(idNumber[i], 2)\n",
    "    return \"\".join(map(str, idNumber))\n",
    "\n",
    "img = cv.imread('girl.png', cv.IMREAD_GRAYSCALE)\n",
    "idNumber = '2020281024'\n",
    "img2 = P2_4_encode(img, idNumber)\n",
    "plt.imshow(img2, 'gray')\n",
    "\n",
    "length = len(idNumber) * 4\n",
    "idNumber = P2_4_decode(img2)\n",
    "print(f'The extracted student number is as follows : {idNumber}')\n",
    "# a = [1 ,2 ,3]\n",
    "# s = \"\".join(map(str, a))，a数组中如有其他不是字符串型的类型的数据，要先使用map（str， list）转化成字符串\n",
    "# print(s)"
   ]
  },
  {
   "cell_type": "code",
   "execution_count": 20,
   "id": "5a5b6141",
   "metadata": {},
   "outputs": [
    {
     "name": "stdout",
     "output_type": "stream",
     "text": [
      "(330, 322)\n"
     ]
    },
    {
     "data": {
      "text/plain": [
       "-1"
      ]
     },
     "execution_count": 20,
     "metadata": {},
     "output_type": "execute_result"
    }
   ],
   "source": [
    "import cv2 as cv\n",
    "import copy\n",
    "\n",
    "img = cv.imread('triangle_noise.png', cv.IMREAD_GRAYSCALE)\n",
    "cv.imshow('img', img)\n",
    "\n",
    "#对图片进行中值滤波\n",
    "cimg = copy.deepcopy(img)\n",
    "img_clean = cv.medianBlur(cimg, 5)\n",
    "cv.imshow('clean_img', img_clean)\n",
    "\n",
    "#边缘提取\n",
    "threshold1_min = 0\n",
    "threshold1_max = 100\n",
    "threshold2_min = 100\n",
    "threshold2_max = 200\n",
    "\n",
    "def Threshold1(x) :\n",
    "    gaussian = cv.GaussianBlur(img, (5, 5), 0)\n",
    "    canny = cv.Canny(gaussian, x, threshold2_min)\n",
    "    cv.imshow('Canny', canny)\n",
    "\n",
    "def Threshold2(x) :\n",
    "    gaussian = cv.GaussianBlur(img, (5, 5), 0)\n",
    "    canny = cv.Canny(gaussian, threshold2_min, x)\n",
    "    cv.imshow('Canny', canny)\n",
    "    \n",
    "cv.namedWindow('Canny', cv.WINDOW_NORMAL | cv.WINDOW_KEEPRATIO)\n",
    "cv.resizeWindow('Canny', (500, 500))\n",
    "cv.createTrackbar('threshold1', 'Canny', threshold1_min, threshold1_max, Threshold1)\n",
    "cv.createTrackbar('threshold2', 'Canny', threshold2_min, threshold2_max, Threshold2)\n",
    "\n",
    "\n",
    "\n",
    "cv.waitKey(0)\n"
   ]
  },
  {
   "cell_type": "code",
   "execution_count": 158,
   "id": "d4b9b301",
   "metadata": {},
   "outputs": [
    {
     "name": "stdout",
     "output_type": "stream",
     "text": [
      "The slopes of the two bottom edges are : 4.371138828673793e-08, 4.371138828673793e-08\n",
      "The two bottom edges are parallel and the average width is : 8.0\n"
     ]
    },
    {
     "data": {
      "text/plain": [
       "-1"
      ]
     },
     "execution_count": 158,
     "metadata": {},
     "output_type": "execute_result"
    }
   ],
   "source": [
    "import cv2 as cv\n",
    "import copy\n",
    "import numpy as np\n",
    "import matplotlib.pyplot as plt\n",
    "\n",
    "img = cv.imread('triangle_noise.png', cv.IMREAD_COLOR)\n",
    "\n",
    "img_draw1 = copy.deepcopy(img)\n",
    "img_draw2 = copy.deepcopy(img)\n",
    "cimg = copy.deepcopy(img)\n",
    "cimg = cv2.cvtColor(cimg, cv2.COLOR_BGR2GRAY) \n",
    "#canny二值化\n",
    "gaussian = cv.GaussianBlur(cimg, (5, 5), 0)\n",
    "canny = cv.Canny(gaussian, 70, 200)\n",
    "#霍夫直线检测得到每一条直线的r和theta\n",
    "lines = cv.HoughLines(canny, 1, np.pi / 180, 100)\n",
    "#print(lines.shape) output : (6, 1, 2)\n",
    "\n",
    "#做出所有检测到的直线\n",
    "for line in lines :\n",
    "    for rho, theta in line:\n",
    "        a = np.cos(theta)\n",
    "        b = np.sin(theta)\n",
    "        #中点\n",
    "        x0 = a * rho\n",
    "        y0 = b * rho\n",
    "        #y轴的正方向的极远处\n",
    "        x1 = int(x0 + 1000 * (-b))\n",
    "        y1 = int(y0 + 1000 * (a))\n",
    "        #y轴的负方向的极远处\n",
    "        x2 = int(x0 - 1000 * (-b))\n",
    "        y2 = int(y0 - 1000 * (a))\n",
    "        cv2.line(img_draw1, (x1, y1), (x2, y2), (0, 0, 255), 2)\n",
    "#底边在第四、五条线\n",
    "for i in range(4, 6) :\n",
    "    line = lines[i]\n",
    "    for rho, theta in line:\n",
    "        a = np.cos(theta)\n",
    "        b = np.sin(theta)\n",
    "        x0 = a * rho\n",
    "        y0 = b * rho\n",
    "        x1 = int(x0 + 1000 * (-b))\n",
    "        y1 = int(y0 + 1000 * (a))\n",
    "        x2 = int(x0 - 1000 * (-b))\n",
    "        y2 = int(y0 - 1000 * (a))\n",
    "        cv2.line(img_draw2, (x1, y1), (x2, y2), (0, 0, 255), 2)\n",
    "#计算底边的斜率\n",
    "base_line1 = -np.cos(lines[4][0][1]) / np.sin(lines[4][0][1])\n",
    "base_line2 = -np.cos(lines[5][0][1]) / np.sin(lines[5][0][1])\n",
    "#print(base_line1, base_line2) output : 4.371139e-08 4.371139e-08\n",
    "assert(abs(base_line1 - base_line2) < 0.00001)\n",
    "#计算底边之间的宽度\n",
    "d = abs(lines[4][0][0] - lines[5][0][0])\n",
    "print(f'The slopes of the two bottom edges are : {base_line1}, {base_line2}')\n",
    "print(f'The two bottom edges are parallel and the average width is : {d}')\n",
    "titles = ['Original Drawing', 'All Edges', 'The Base Edges']\n",
    "imgs = [img, img_draw1, img_draw2]\n",
    "fig = plt.figure()\n",
    "plt.ion()\n",
    "for i in range(3):\n",
    "    ax = plt.subplot(1, 3, i + 1)\n",
    "    plt.imshow(cv2.cvtColor(imgs[i], cv.COLOR_BGR2RGB))\n",
    "    ax.set_title(titles[i])\n",
    "plt.ioff()\n",
    "plt.show()\n",
    "cv.waitKey(0)"
   ]
  }
 ],
 "metadata": {
  "kernelspec": {
   "display_name": "Python 3",
   "language": "python",
   "name": "python3"
  },
  "language_info": {
   "codemirror_mode": {
    "name": "ipython",
    "version": 3
   },
   "file_extension": ".py",
   "mimetype": "text/x-python",
   "name": "python",
   "nbconvert_exporter": "python",
   "pygments_lexer": "ipython3",
   "version": "3.8.8"
  },
  "toc": {
   "base_numbering": 1,
   "nav_menu": {},
   "number_sections": true,
   "sideBar": true,
   "skip_h1_title": false,
   "title_cell": "Table of Contents",
   "title_sidebar": "Contents",
   "toc_cell": false,
   "toc_position": {},
   "toc_section_display": true,
   "toc_window_display": false
  }
 },
 "nbformat": 4,
 "nbformat_minor": 5
}
