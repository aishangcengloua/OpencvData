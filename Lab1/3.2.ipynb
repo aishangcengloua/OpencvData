{
 "cells": [
  {
   "cell_type": "code",
   "execution_count": 10,
   "id": "b3a6ebb8",
   "metadata": {},
   "outputs": [
    {
     "data": {
      "text/plain": [
       "-1"
      ]
     },
     "execution_count": 10,
     "metadata": {},
     "output_type": "execute_result"
    }
   ],
   "source": [
    "import cv2 as cv\n",
    "import matplotlib.pyplot as plt\n",
    "import copy\n",
    "import numpy as np\n",
    "\n",
    "def style_transfer(img1, img2) :\n",
    "    out = copy.deepcopy(img1)\n",
    "    hist_img1, _ = np.histogram(img1[ : , : ], bins = 256)\n",
    "    hist_img2, _ = np.histogram(img2[ : , : ], bins = 256)\n",
    "    \n",
    "    cdf_img1 = np.cumsum(hist_img1)\n",
    "    cdf_img2 = np.cumsum(hist_img2)\n",
    "    \n",
    "    for i in range(256) :\n",
    "        tmp = abs(cdf_img1[i] - cdf_img2)\n",
    "        tmp = tmp.tolist()\n",
    "        idx = tmp.index(min(tmp))\n",
    "        \n",
    "        out[img1[ : , : ] == i] = idx\n",
    "    return out\n",
    "\n",
    "Image = cv.imread('data/shenzhen_gray.bmp', cv.IMREAD_GRAYSCALE)\n",
    "cimage = copy.deepcopy(Image)\n",
    "#直接均衡的图\n",
    "gimage = cv.equalizeHist(cimage)\n",
    "\n",
    "#规定化\n",
    "Image2 = cv.imread('dark_city.png', cv.IMREAD_GRAYSCALE)\n",
    "Image2 = cv.resize(Image2, (cimage.shape[1], cimage.shape[0]))\n",
    "Image3 = style_transfer(cimage, Image2)\n",
    "\n",
    "cv.imshow('Image', Image)\n",
    "cv.imshow('Image3', Image3)\n",
    "cv.imshow('gimage', gimage)\n",
    "cv.waitKey()\n",
    "\n",
    "#cv.imwrite('dark_city.png', gimage)\n",
    "# cv.imshow('gimage', gimage)\n",
    "# cv.imshow('Image', Image)\n",
    "# cv.waitKey()"
   ]
  }
 ],
 "metadata": {
  "kernelspec": {
   "display_name": "Python 3",
   "language": "python",
   "name": "python3"
  },
  "language_info": {
   "codemirror_mode": {
    "name": "ipython",
    "version": 3
   },
   "file_extension": ".py",
   "mimetype": "text/x-python",
   "name": "python",
   "nbconvert_exporter": "python",
   "pygments_lexer": "ipython3",
   "version": "3.8.8"
  },
  "toc": {
   "base_numbering": 1,
   "nav_menu": {},
   "number_sections": true,
   "sideBar": true,
   "skip_h1_title": false,
   "title_cell": "Table of Contents",
   "title_sidebar": "Contents",
   "toc_cell": false,
   "toc_position": {},
   "toc_section_display": true,
   "toc_window_display": false
  }
 },
 "nbformat": 4,
 "nbformat_minor": 5
}
