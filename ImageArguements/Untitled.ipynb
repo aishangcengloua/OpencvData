{
 "cells": [
  {
   "cell_type": "code",
   "execution_count": 16,
   "id": "a5e4e189",
   "metadata": {},
   "outputs": [
    {
     "data": {
      "text/plain": [
       "-1"
      ]
     },
     "execution_count": 16,
     "metadata": {},
     "output_type": "execute_result"
    }
   ],
   "source": [
    "import numpy as np\n",
    "import cv2\n",
    "import copy\n",
    "img = cv2.imread('zhouge.png', cv2.IMREAD_GRAYSCALE)\n",
    "'''img = cv2.resize(img, (700, 700))\n",
    "G_channels = np.pad(img, ((1, 1), (1, 1)), 'edge').astype(np.float32)\n",
    "#print(G_channels.shape)为了关心到所有的像素，所以要padding\n",
    "#边缘填充，第二个参数表示，在上下和左右各填充一行和一列，edge表示用边缘值填充\n",
    "New_img = np.full((700, 700), np.nan).astype(np.float32)\n",
    "#创建空数组，第一个参数是数组大小，第二个是填充的值\n",
    "#下面构建滤波器3 * 3\n",
    "for i in range(1, 700) :\n",
    "    for j in range(1, 700) :\n",
    "        tmp = copy.deepcopy(G_channels[i - 1 : i + 2, j - 1 : j + 2])\n",
    "        x = np.multiply(tmp, np.array([[-1, 0, 2], [-2, 0, 1], [-1, 0, 2]]))\n",
    "        y = np.multiply(tmp, np.array([[-1, -2, -1], [0, 0, 0], [1, 2, 1]]))\n",
    "        df = np.sqrt(np.power(np.sum(x), 2) + np.power(np.sum(y), 2))\n",
    "        New_img[i - 1][j - 1] = df'''\n",
    "#New_img = New_img.astype(np.uint8)\n",
    "\n",
    "#img = cv2.imread('zhouge.png', cv2.IMREAD_GRAYSCALE)\n",
    "#print(img.shape)\n",
    "img = cv2.resize(img, (700,700))\n",
    "cv2.imshow('img', img)\n",
    "Laplacion = cv2.Sobel(img, cv2.CV_16S, 1, 1)\n",
    "New_img = cv2.convertScaleAbs(Laplacion)\n",
    "cv2.imshow('zhougeniubi.png', New_img)\n",
    "cv2.imwrite('zhougeDiao.png',New_img)\n",
    "cv2.waitKey(0)"
   ]
  },
  {
   "cell_type": "code",
   "execution_count": null,
   "id": "469cfcd3",
   "metadata": {},
   "outputs": [],
   "source": []
  }
 ],
 "metadata": {
  "kernelspec": {
   "display_name": "Python 3",
   "language": "python",
   "name": "python3"
  },
  "language_info": {
   "codemirror_mode": {
    "name": "ipython",
    "version": 3
   },
   "file_extension": ".py",
   "mimetype": "text/x-python",
   "name": "python",
   "nbconvert_exporter": "python",
   "pygments_lexer": "ipython3",
   "version": "3.8.8"
  },
  "toc": {
   "base_numbering": 1,
   "nav_menu": {},
   "number_sections": true,
   "sideBar": true,
   "skip_h1_title": false,
   "title_cell": "Table of Contents",
   "title_sidebar": "Contents",
   "toc_cell": false,
   "toc_position": {},
   "toc_section_display": true,
   "toc_window_display": false
  }
 },
 "nbformat": 4,
 "nbformat_minor": 5
}
