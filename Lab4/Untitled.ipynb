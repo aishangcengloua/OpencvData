{
 "cells": [
  {
   "cell_type": "code",
   "execution_count": 7,
   "id": "8767ea92",
   "metadata": {},
   "outputs": [
    {
     "data": {
      "text/plain": [
       "-1"
      ]
     },
     "execution_count": 7,
     "metadata": {},
     "output_type": "execute_result"
    }
   ],
   "source": [
    "import numpy as np\n",
    "import cv2 as cv \n",
    "\n",
    "def P4_rgb2gray(img) :\n",
    "    b, g, r = cv.split(img)\n",
    "    img = 0.229 * r + 0.578 * g + 0.144 * b\n",
    "    img = cv.merge([b, g, r])\n",
    "    return img\n",
    "\n",
    "img = cv.imread('images/shenzhen.png', cv.IMREAD_COLOR)\n",
    "img_gray = P4_rgb2gray(img).astype(np.uint8)\n",
    "\n",
    "cv.imshow('img_gray', img_gray)\n",
    "cv.waitKey(0)"
   ]
  },
  {
   "cell_type": "code",
   "execution_count": 105,
   "id": "eba74a23",
   "metadata": {},
   "outputs": [
    {
     "data": {
      "text/plain": [
       "-1"
      ]
     },
     "execution_count": 105,
     "metadata": {},
     "output_type": "execute_result"
    }
   ],
   "source": [
    "import cv2 as cv \n",
    "import numpy as np\n",
    "\n",
    "img = cv.imread('images/blue_sign.png', cv.IMREAD_COLOR)\n",
    "rgb = cv.cvtColor(img, cv.COLOR_BGR2RGB)\n",
    "\n",
    "blue_low = np.array([0, 0, 150])\n",
    "blue_up = np.array([150, 240, 255])\n",
    "\n",
    "mask = cv.inRange(rgb, blue_low, blue_up)\n",
    "img2 = cv.bitwise_and(img, img, mask = mask)\n",
    "\n",
    "concatenate = np.concatenate((img, img2), axis = 1)\n",
    "cv.imshow('concatenate', concatenate)\n",
    "cv.waitKey(0)"
   ]
  },
  {
   "cell_type": "code",
   "execution_count": 103,
   "id": "c73449c8",
   "metadata": {},
   "outputs": [
    {
     "data": {
      "text/plain": [
       "-1"
      ]
     },
     "execution_count": 103,
     "metadata": {},
     "output_type": "execute_result"
    }
   ],
   "source": [
    "import cv2 as cv \n",
    "import numpy as np\n",
    "import matplotlib.pyplot as plt\n",
    "img = cv.imread('images/blue_sign.png')[ : , : , : : -1]\n",
    "hsv = cv.cvtColor(img, cv.COLOR_RGB2HSV)\n",
    "\n",
    "low_blue = np.array([100, 43, 46])\n",
    "up_blue = np.array([124, 255, 240])\n",
    "\n",
    "mask = cv.inRange(hsv, low_blue, up_blue)\n",
    "img = cv.cvtColor(img, cv.COLOR_RGB2BGR)\n",
    "img2 = cv.bitwise_and(img, img, mask = mask)\n",
    "\n",
    "concatenate = np.concatenate((img, img2), axis = 1)\n",
    "cv.imshow('concatenate', concatenate)\n",
    "cv.waitKey(0)"
   ]
  },
  {
   "cell_type": "code",
   "execution_count": 102,
   "id": "c19e2b2c",
   "metadata": {},
   "outputs": [
    {
     "name": "stdout",
     "output_type": "stream",
     "text": [
      "[[ 1.08420217e-19]\n",
      " [ 8.89219158e-24]\n",
      " [ 2.06997102e-26]\n",
      " [-3.00398233e-27]\n",
      " [ 4.86082411e-41]\n",
      " [ 1.11703937e-32]\n",
      " [-2.67697332e-39]]\n",
      "[[ 2.16840434e-19]\n",
      " [-1.28212995e-23]\n",
      " [-7.97948583e-26]\n",
      " [ 8.81630948e-27]\n",
      " [ 4.95947552e-40]\n",
      " [ 5.97808655e-31]\n",
      " [-3.12581483e-39]]\n",
      "[[1.56914471e-06]\n",
      " [2.67185822e-09]\n",
      " [2.59890348e-15]\n",
      " [2.50988314e-15]\n",
      " [2.17424360e-28]\n",
      " [7.40875755e-19]\n",
      " [2.14289027e-29]]\n"
     ]
    }
   ],
   "source": [
    "import numpy as np\n",
    "import cv2 as cv \n",
    "star_img = cv.imread('images/star.png', cv.IMREAD_GRAYSCALE)\n",
    "moments = cv.moments(star_img)\n",
    "HuMoments = cv.HuMoments(moments)\n",
    "\n",
    "#平移\n",
    "M = np.float32([[1, 0, 50], [0, 1, 30]])\n",
    "rows, cols = star_img.shape[0], star_img.shape[1]\n",
    "star_img1 = cv.warpAffine(star_img, M, (cols, rows))\n",
    "moments = cv.moments(star_img1)\n",
    "HuMoments1 = cv.HuMoments(moments)\n",
    "delta1 =  HuMoments1 - HuMoments\n",
    "print(delta1)\n",
    "\n",
    "#旋转\n",
    "star_img2 = np.rot90(star_img)\n",
    "moments = cv.moments(star_img2)\n",
    "HuMoments2 = cv.HuMoments(moments)\n",
    "delta2 = HuMoments2 - HuMoments\n",
    "print(delta2)\n",
    "\n",
    "#尺度\n",
    "star_img3 = cv.resize(star_img, (300, 300))\n",
    "moments = cv.moments(star_img3)\n",
    "HuMoments3 = cv.HuMoments(moments)\n",
    "delta3 = HuMoments3 - HuMoments\n",
    "print(delta3)\n"
   ]
  },
  {
   "cell_type": "code",
   "execution_count": 108,
   "id": "db11f772",
   "metadata": {},
   "outputs": [
    {
     "name": "stdout",
     "output_type": "stream",
     "text": [
      "Using matplotlib backend: Qt5Agg\n"
     ]
    },
    {
     "data": {
      "text/plain": [
       "-1"
      ]
     },
     "execution_count": 108,
     "metadata": {},
     "output_type": "execute_result"
    }
   ],
   "source": [
    "import cv2 as cv \n",
    "import numpy as np\n",
    "import matplotlib.pyplot as plt\n",
    "%matplotlib\n",
    "img_planes = cv.imread('images/planes.png', 0)\n",
    "\n",
    "img = np.zeros((img_planes.shape[0], img_planes.shape[1], 3))\n",
    "contours, hierarphy = cv.findContours(img_planes, cv.RETR_EXTERNAL, cv.CHAIN_APPROX_NONE)#contours得到宽和高\n",
    "cv.drawContours(img, contours,  -1, (0, 0, 255), 1)\n",
    "\n",
    "contours_tmp = []\n",
    "for k in range(len(contours)) :\n",
    "    X = contours[k].squeeze()\n",
    "    min_x, min_y, max_x, max_y = np.min(X, 0)[0], np.min(X, 0)[1], np.max(X, 0)[0], np.max(X, 0)[1]\n",
    "    contours_tmp.append([[min_x, min_y], [min_x, max_y], [max_x, max_y], [max_x, min_y]])\n",
    "#cv2.line画矩形\n",
    "# for i in range(len(contours_tmp)) :\n",
    "#     cv.line(img, (contours_tmp[i][3][0], contours_tmp[i][3][1]), (contours_tmp[i][0][0], contours_tmp[i][0][1]), (0, 0, 255), 1)\n",
    "#     for j in range(len(contours_tmp[i]) - 1) :\n",
    "#         cv.line(img, (contours_tmp[i][j][0], contours_tmp[i][j][1]), (contours_tmp[i][j + 1][0], contours_tmp[i][j + 1][1]), (0, 0, 255), 1)\n",
    "#         cv.imshow('img', img)\n",
    "#         cv.waitKey(1)\n",
    "# cv.waitKey(0)\n",
    "for i in range(len(contours_tmp)) :\n",
    "    cv.rectangle(img, (contours_tmp[i][0][0], contours_tmp[i][0][1]), (contours_tmp[i][2][0], contours_tmp[i][2][1]), (0, 0, 255))\n",
    "\n",
    "img_plane = cv.imread('images/one_plane.png', 0)\n",
    "sub_images = []\n",
    "deltas = []\n",
    "#单架飞机的Hu矩\n",
    "moments_plane = cv.moments(img_plane)\n",
    "Hu_plane = cv.HuMoments(moments_plane)\n",
    "Hu_planes = []\n",
    "\n",
    "for k in range(len(contours_tmp)) :\n",
    "    sub_image = img_planes[contours_tmp[k][0][1] : contours_tmp[k][2][1], contours_tmp[k][0][0] : contours_tmp[k][2][0]].astype(np.float32)\n",
    "    sub_images.append(sub_image)\n",
    "    \n",
    "    moments = cv.moments(sub_image)\n",
    "    Humoments = cv.HuMoments(moments)\n",
    "    Hu_planes.append(Humoments)\n",
    "    #定义Hu矩的距离为欧几里得距离\n",
    "    delta = np.square(Humoments - Hu_plane)\n",
    "    deltas.append(np.sum(delta))\n",
    "    \n",
    "    plt.subplot(1, 4, k + 1)\n",
    "    plt.title(f'sub {k + 1}')\n",
    "    plt.axis('off')\n",
    "    plt.tight_layout()\n",
    "    plt.imshow(sub_image, 'gray')\n",
    "\n",
    "plt.figure()\n",
    "the_nearest = deltas.index(min(deltas))\n",
    "plt.subplot(1, 2, 1), plt.imshow(img_plane, 'gray'), plt.title('Original'),plt.axis('off')\n",
    "plt.subplot(1, 2, 2), plt.imshow(sub_images[the_nearest], 'gray'), plt.title('Matched'),plt.axis('off')\n",
    "\n",
    "cv.imshow('contours', img)\n",
    "cv.waitKey(0)"
   ]
  },
  {
   "cell_type": "code",
   "execution_count": 33,
   "id": "dc20d106",
   "metadata": {},
   "outputs": [
    {
     "name": "stdout",
     "output_type": "stream",
     "text": [
      "归一化链码: \n",
      " 0000727612077117000072701601171207702701500000000000000000000007277270071170170110612167106711707101770216711627072772710207611170527726270000000711700110000000000000000010167117061216661277111000000000000000000000000000010107275277062111066017011000000000000000000000000000000000000011711606100072157000071011000000710670216007717717216012700007267612070071061200772711072707717170711100072771672700072107270071150007101626270000100100000777262707112772166012105105116116101101772707061017072107270007210007270716702167261001611761117000177277211707021606017711617270151215020512167172167116117612161100711775121600007277270007270000161001172772772500007276121600007277611512160612061017000511700727110001602767117000011720627726270077121766270000011710007106702717017721012704012177070611772621702716117702070711501611626217116277250007270721000727000071176121607211601107707727000711707270011000711616072707200270727705127170711172070000067260207600111270511610170110727007167100720017117007150271610721510072001007261157270711777725120772627726277270000000067251216007210727726101772771177277277270770711772010000007276120611770216007270060710171010007107262150117711700711627711151000000071170001100072700600710171010071176120610170060170071107121527727052761216007210727016106000071010011150206101707100005116117710701111171777011051077116100111061000157270151277700000011612151077105126105101010000000000000000000000000000000000000000000000000000000000000000000000000000001270707016107010000000106207711621007277270727702167257211106072700770000071110000727007277172152771170702166612106727072100000072770117170000702160007270000000067262700721727710176011110600000006072700072772772777\n",
      "归一化差分码: \n",
      " 22222132013321232222213223112323554335445222222222222222222222221321322212322322344235643442123221223211342123132213213233554234544132131322222222123222344444444444444444455643454423564201321234444444444444444444444444444455665763543313456642232234444444444444444444444444444444444444456567553444435632222212234444444344211342221010707120013222221310671100070067111071012213221010100701222213212071000071221322212300007001717100000111222222107171007013213420013441227017017001223213221170010071221322221344443544342113421312223123201232222321321345443356442232123121322301341133013421213421231232013423444345430134222221321322221322222312223435435435222221320134222221321701671200671170010000567666576700001771065676666670711710717100076712175766666670700007006557676676570013226671210077567657570771017010771100701667567575707017107166665766570000710000070106712007123112332110710000701007100012222123120071007111322132116710100701213322222207177110666701322701700100122132221207000711121232221277101700712700071112221312307100701076574577657576575765766666666643523564443566576575667657656765765765766544345435566666665764577567655706665766644344545566665665757055676567666567576567056666666656766667000071000666566767700070106711700100066766656776712710710057645706665700710017006666656677701277117001007000005675676566556701212107701167765675666701170000165766745765444444456457056654552353441223344444444444444444444444444444444444444444444444444444444444444444444444444444445766554453443344444444553554345356665765766576557065743567006657666544444434566666576665765657057656766557064235664354435666666657655676766666557066665766666666643535444356576566764456700666666664435444435435435432\n"
     ]
    }
   ],
   "source": [
    "import cv2 as cv \n",
    "\n",
    "def P4_contour_code(pointList) :\n",
    "    Normalized_chain_code = []\n",
    "    Differential_code = []\n",
    "    direction = [[1, 0], [1, 1], [0, 1], [-1, 1], [-1, 0], [-1, -1], [0, -1], [1, -1]]\n",
    "\n",
    "    for k in range(1, len(contours_tmp)) :\n",
    "        for t in range(len(direction)) :\n",
    "            if (contours_tmp[k][0] == (contours_tmp[k - 1][0] + direction[t][0])) and (contours_tmp[k][1] == (contours_tmp[k - 1][1] + direction[t][1])) :\n",
    "                Normalized_chain_code.append(t)\n",
    "    Normalized_chain_code.append(Normalized_chain_code[0])\n",
    "\n",
    "    for i in range(1, len(Normalized_chain_code)) :\n",
    "        if Normalized_chain_code[i] < Normalized_chain_code[i - 1] :\n",
    "            Differential_code.append(Normalized_chain_code[i] + 8 - Normalized_chain_code[i - 1])\n",
    "        else :\n",
    "            Differential_code.append(Normalized_chain_code[i] - Normalized_chain_code[i - 1])\n",
    "    return Differential_code, Normalized_chain_code\n",
    "\n",
    "star = cv.imread('images/star.png', cv.IMREAD_GRAYSCALE)\n",
    "contours, hierarphy = cv.findContours(star, cv.RETR_EXTERNAL, cv.CHAIN_APPROX_NONE)\n",
    "pointList = contours[0].squeeze()\n",
    "\n",
    "Chain_code, Differential_code = P4_contour_code(pointList)\n",
    "print('归一化链码: \\n',\"\".join(map(str, Chain_code)))\n",
    "print('归一化差分码: \\n',\"\".join(map(str, Differential_code)))"
   ]
  }
 ],
 "metadata": {
  "kernelspec": {
   "display_name": "Python 3",
   "language": "python",
   "name": "python3"
  },
  "language_info": {
   "codemirror_mode": {
    "name": "ipython",
    "version": 3
   },
   "file_extension": ".py",
   "mimetype": "text/x-python",
   "name": "python",
   "nbconvert_exporter": "python",
   "pygments_lexer": "ipython3",
   "version": "3.8.8"
  },
  "toc": {
   "base_numbering": 1,
   "nav_menu": {},
   "number_sections": true,
   "sideBar": true,
   "skip_h1_title": false,
   "title_cell": "Table of Contents",
   "title_sidebar": "Contents",
   "toc_cell": false,
   "toc_position": {},
   "toc_section_display": true,
   "toc_window_display": false
  }
 },
 "nbformat": 4,
 "nbformat_minor": 5
}
