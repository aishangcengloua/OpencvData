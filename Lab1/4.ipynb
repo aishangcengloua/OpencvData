{
 "cells": [
  {
   "cell_type": "code",
   "execution_count": 23,
   "id": "945f91b7",
   "metadata": {},
   "outputs": [
    {
     "data": {
      "text/plain": [
       "-1"
      ]
     },
     "execution_count": 23,
     "metadata": {},
     "output_type": "execute_result"
    }
   ],
   "source": [
    "import cv2 as cv\n",
    "import numpy as np\n",
    "import copy\n",
    "def MyFilter(img, filter_size) :\n",
    "    New_img = copy.deepcopy(img)\n",
    "    New_img2 = copy.deepcopy(img)\n",
    "    offset = int((filter_size - 1) / 2)\n",
    "    New_img = np.pad(New_img, ((offset, offset), (offset, offset)), \"edge\")\n",
    "    for r in range(offset, img.shape[0]) :\n",
    "        for c in range(offset, img.shape[1]) :\n",
    "            blk = New_img[r - offset : r + offset + 1, c - offset : c + offset + 1]\n",
    "            #New_image[r, c] = np.median(blk)#中值滤波器\n",
    "            #New_img2[r - offset, c - offset] =np.mean(blk)#均值滤波器\n",
    "            New_img2[r - offset, c - offset] =np.median(blk)\n",
    "    return New_img2\n",
    "def MyFilter2(img, filter_size) :\n",
    "    New_img = copy.deepcopy(img)\n",
    "    offset = int((filter_size - 1) / 2)\n",
    "    #New_img = np.pad(New_img, ((offset, offset), (offset, offset)), \"edge\")\n",
    "    for r in range(offset, img.shape[0]) :\n",
    "        for c in range(offset, img.shape[1]) :\n",
    "            blk = New_img[r - offset : r + offset + 1, c - offset : c + offset + 1]\n",
    "            #New_img[r, c] = np.median(blk)#中值滤波器\n",
    "            New_img[r, c] =np.mean(blk)#均值滤波器\n",
    "    return New_img\n",
    "noise_img = cv.imread('data/shenzhen_noise.bmp', cv.IMREAD_GRAYSCALE)\n",
    "Myclean_img1 = MyFilter(noise_img, 7)\n",
    "Myclean_img2 = MyFilter2(noise_img, 7)\n",
    "# Myclean_img1 = MyFilter(noise_img, 5)\n",
    "# Myclean_img1 = MyFilter(noise_img, 7)\n",
    "# clean_img1 = cv.blur(noise_img, (3, 3))\n",
    "# clean_img2 = cv.blur(noise_img, (5, 5))\n",
    "clean_img3 = cv.medianBlur(noise_img, 7)\n",
    "cv.imshow('Myclean_img2', Myclean_img2)\n",
    "cv.imshow('Myclean_img1', Myclean_img1)\n",
    "cv.imshow('clean_img1', clean_img3)\n",
    "cv.waitKey()\n",
    "\n"
   ]
  }
 ],
 "metadata": {
  "kernelspec": {
   "display_name": "Python 3",
   "language": "python",
   "name": "python3"
  },
  "language_info": {
   "codemirror_mode": {
    "name": "ipython",
    "version": 3
   },
   "file_extension": ".py",
   "mimetype": "text/x-python",
   "name": "python",
   "nbconvert_exporter": "python",
   "pygments_lexer": "ipython3",
   "version": "3.8.8"
  },
  "toc": {
   "base_numbering": 1,
   "nav_menu": {},
   "number_sections": true,
   "sideBar": true,
   "skip_h1_title": false,
   "title_cell": "Table of Contents",
   "title_sidebar": "Contents",
   "toc_cell": false,
   "toc_position": {},
   "toc_section_display": true,
   "toc_window_display": false
  }
 },
 "nbformat": 4,
 "nbformat_minor": 5
}
