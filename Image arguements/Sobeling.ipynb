{
 "cells": [
  {
   "cell_type": "code",
   "execution_count": 15,
   "id": "7497eb99",
   "metadata": {},
   "outputs": [
    {
     "data": {
      "text/plain": [
       "-1"
      ]
     },
     "execution_count": 15,
     "metadata": {},
     "output_type": "execute_result"
    }
   ],
   "source": [
    "#sobel算子用于图像边缘检测，图像的梯度等于相邻像素之差，当上下或者左右的像素值过大时，即可认为是边缘地方\n",
    "#opencv中默认截断：即像素之差小于0大于256，默认选在0到256之间，所以要对梯度值取绝对值\n",
    "#即在x方向上，p5 = p3 - p1 + 2(p6 - p4) + p9 - p7\n",
    "#x方向np.array([[-1, 0, 2], [-2, 0, 1], [-1, 0, 2]]\n",
    "#y方向np.array([[-1, -2, -1], [0, 0, 0], [1, 2, 1]]\n",
    "import cv2\n",
    "import numpy as np\n",
    "import copy\n",
    "import math\n",
    "\n",
    "img = cv2.imread('shenzhen.png', cv2.IMREAD_COLOR)\n",
    "R, G, B = cv2.split(img)\n",
    "#print(G.shape)(368, 596)\n",
    "G_channels = np.pad(G, ((1, 1), (1, 1)), 'edge').astype(np.float32)\n",
    "#print(G_channels.shape)为了关心到所有的像素，所以要padding\n",
    "#边缘填充，第二个参数表示，在上下和左右各填充一行和一列，edge表示用边缘值填充\n",
    "New_img = np.full((368, 596), np.nan).astype(np.float32)\n",
    "#创建空数组，第一个参数是数组大小，第二个是填充的值\n",
    "#下面构建滤波器3 * 3\n",
    "for i in range(1, 368) :\n",
    "    for j in range(1, 596) :\n",
    "        tmp = copy.deepcopy(G_channels[i - 1 : i + 2, j - 1 : j + 2])\n",
    "        x = np.multiply(tmp, np.array([[-1, 0, 2], [-2, 0, 1], [-1, 0, 2]]))\n",
    "        y = np.multiply(tmp, np.array([[-1, -2, -1], [0, 0, 0], [1, 2, 1]]))\n",
    "        df = np.sqrt(np.power(np.sum(x), 2) + np.power(np.sum(y), 2))\n",
    "        New_img[i - 1][j - 1] = df\n",
    "# 浮点型转成uint8型\n",
    "New_img = New_img.astype(np.uint8)\n",
    "#cv2.namedWindow(‘窗口标题’,默认参数)\n",
    "#之前的图像\n",
    "#cv2.namedWindow('G')\n",
    "#cv2.resizeWindow('G')\n",
    "cv2.imshow('G', G)\n",
    "\n",
    "#之后的\n",
    "#cv2.namedWindow('New_img')\n",
    "#cv2.resizeWindow('New_img')\n",
    "cv2.imwrite('sobaling.png', New_img)\n",
    "cv2.imshow('New_img', New_img)\n",
    "\n",
    "#opencv中sobel算子，整体边缘检测\n",
    "edges = cv2.Sobel(G,cv2.CV_16S,1,1)#第一个参数表示输入图像，第二个参数表示数据类型，cv2.CV_8U，指的是8位无符号数，CV_16S（16位无符号数）\n",
    "edges = cv2.convertScaleAbs(edges) #先计算数组绝对值，后转化为8位无符号数\n",
    "cv2.imshow('edges', edges)\n",
    "cv2.imwrite('sobeling2.png', edges)\n",
    "cv2.waitKey(0)"
   ]
  },
  {
   "cell_type": "code",
   "execution_count": null,
   "id": "95266706",
   "metadata": {},
   "outputs": [],
   "source": []
  }
 ],
 "metadata": {
  "kernelspec": {
   "display_name": "Python 3",
   "language": "python",
   "name": "python3"
  },
  "language_info": {
   "codemirror_mode": {
    "name": "ipython",
    "version": 3
   },
   "file_extension": ".py",
   "mimetype": "text/x-python",
   "name": "python",
   "nbconvert_exporter": "python",
   "pygments_lexer": "ipython3",
   "version": "3.8.8"
  },
  "toc": {
   "base_numbering": 1,
   "nav_menu": {},
   "number_sections": true,
   "sideBar": true,
   "skip_h1_title": false,
   "title_cell": "Table of Contents",
   "title_sidebar": "Contents",
   "toc_cell": false,
   "toc_position": {},
   "toc_section_display": true,
   "toc_window_display": false
  }
 },
 "nbformat": 4,
 "nbformat_minor": 5
}
