{
 "cells": [
  {
   "cell_type": "code",
   "execution_count": 4,
   "id": "6d593149",
   "metadata": {},
   "outputs": [
    {
     "data": {
      "text/plain": [
       "-1"
      ]
     },
     "execution_count": 4,
     "metadata": {},
     "output_type": "execute_result"
    }
   ],
   "source": [
    "import cv2\n",
    "import numpy as np\n",
    "import copy\n",
    "\n",
    "img = cv2.imread('shenzhen.png', cv2.IMREAD_COLOR)\n",
    "R, G, B = cv2.split(img)\n",
    "G_ = np.pad(G, ((1, 1), (1, 1)), 'edge').astype(np.float32)\n",
    "#print(G.shape)\n",
    "New_img = np.full((368, 596), np.nan).astype(np.float32)\n",
    "\n",
    "for i in range(1, 368) :\n",
    "    for j in range(1, 596) :\n",
    "        tmp = copy.deepcopy(G_[i - 1 : i + 2, j - 1 : j + 2])\n",
    "        x = np.multiply(tmp, np.array([[0, 1, 0], [1, -4, 1], [0, 1, 0]]))\n",
    "        y = np.multiply(tmp, np.array([[0, 1, 0], [1, -4, 1], [0, 1, 0]]))\n",
    "        df = np.sqrt(np.power(np.sum(x), 2) + np.power(np.sum(y), 2))\n",
    "        New_img[i - 1][j - 1] = df\n",
    "New_img = New_img.astype(np.uint8)\n",
    "cv2.imshow('G', G)\n",
    "cv2.imshow('New_img', New_img)\n",
    "cv2.imwrite('Laplacion.png', New_img)\n",
    "#opencv中自带的l拉普拉斯算子\n",
    "Laplacion = cv2.Laplacian(G, cv2.CV_16S, 1, 1)\n",
    "L = cv2.convertScaleAbs(Laplacion)\n",
    "cv2.imwrite('Laplacion2.png', L)\n",
    "cv2.imshow('Laplacion2', L)\n",
    "cv2.waitKey(0)\n"
   ]
  },
  {
   "cell_type": "code",
   "execution_count": null,
   "id": "4e28a36b",
   "metadata": {},
   "outputs": [],
   "source": []
  }
 ],
 "metadata": {
  "kernelspec": {
   "display_name": "Python 3",
   "language": "python",
   "name": "python3"
  },
  "language_info": {
   "codemirror_mode": {
    "name": "ipython",
    "version": 3
   },
   "file_extension": ".py",
   "mimetype": "text/x-python",
   "name": "python",
   "nbconvert_exporter": "python",
   "pygments_lexer": "ipython3",
   "version": "3.8.8"
  },
  "toc": {
   "base_numbering": 1,
   "nav_menu": {},
   "number_sections": true,
   "sideBar": true,
   "skip_h1_title": false,
   "title_cell": "Table of Contents",
   "title_sidebar": "Contents",
   "toc_cell": false,
   "toc_position": {},
   "toc_section_display": true,
   "toc_window_display": false
  }
 },
 "nbformat": 4,
 "nbformat_minor": 5
}
