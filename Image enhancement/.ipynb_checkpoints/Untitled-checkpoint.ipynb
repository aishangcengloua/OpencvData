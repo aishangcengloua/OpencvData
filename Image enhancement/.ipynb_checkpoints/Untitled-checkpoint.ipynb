{
 "cells": [
  {
   "cell_type": "code",
   "execution_count": 35,
   "id": "91c368fc",
   "metadata": {},
   "outputs": [
    {
     "data": {
      "text/plain": [
       "-1"
      ]
     },
     "execution_count": 35,
     "metadata": {},
     "output_type": "execute_result"
    }
   ],
   "source": [
    "import cv2\n",
    "import copy\n",
    "import math\n",
    "import numpy as np\n",
    "\n",
    "'''img = cv2.imread('shenzhen.png', cv2.IMREAD_COLOR)\n",
    "cv2.imshow('img1', img)\n",
    "cv2.waitKey(0)'''\n",
    "'''cimg = cv2.imread('shenzhen.png', cv2.IMREAD_COLOR)\n",
    "gimg = cv2.cvtColor(cimg, cv2.COLOR_BGR2GRAY)\n",
    "\n",
    "gamma = copy.deepcopy(gimg)\n",
    "gamma2 = copy.deepcopy(gimg).astype(np.float64)\n",
    "#print(gamma2)\n",
    "#print(type(gimg))\n",
    "#print(gamma.shape)\n",
    "rows = gamma.shape[0]\n",
    "cols = gamma.shape[1]\n",
    "\n",
    "for r in range(rows) :\n",
    "    for c in range(cols) :\n",
    "        gamma[r][c] = 1 * pow(gimg[r][c], 1.1)\n",
    "cv2.imshow('gimg', gimg)\n",
    "cv2.imshow('gamma', gamma)\n",
    "cv2.waitKey(0)\n",
    "\n",
    "for r in range(rows) :\n",
    "    for c in range(cols) :\n",
    "        gamma2[r][c] = 1 / (1 + math.exp(-1 * gimg[r][c] * 0.04)) - 0.5\n",
    "delta = gamma2.max() - gamma2.min()\n",
    "gamma2 = 256 * (gamma2 - gamma2.min()) / delta\n",
    "gamma2 = gamma2.astype(np.uint8)\n",
    "print(gamma2)\n",
    "cv2.imshow('gimg', gimg)\n",
    "cv2.imshow('gamma', gamma)\n",
    "cv2.waitKey(0)'''\n",
    "\n",
    "mask = cv2.imread('shenzhen_mask.bmp', cv2.IMREAD_GRAYSCALE)\n",
    "mask = cv2.bitwise_not(mask)\n",
    "cimg2 = cv2.imread('shenzhen.png', cv2.IMREAD_GRAYSCALE)\n",
    "new_img = cv2.bitwise_and(mask, cimg2)\n",
    "cv2.imshow('new_img', new_img)\n",
    "#cv2.waitKey(0)\n",
    "\n",
    "'''circle = cv2.imread('circle.png', cv2.IMREAD_GRAYSCALE)\n",
    "square = cv2.imread('square.png', cv2.IMREAD_GRAYSCALE)\n",
    "square = cv2.resize(square, (circle.shape[1], circle.shape[0]))\n",
    "print(circle.shape)\n",
    "print(square.shape)\n",
    "img_add = cv2.bitwise_and(circle, square)\n",
    "cv2.imshow('img_add', img_add)\n",
    "cv2.waitKey(0)'''\n",
    "\n",
    "gimg2 = None\n",
    "for i in range(1, 65) :\n",
    "    path = 'noiseimages/' + str(i) + \".bmp\"\n",
    "    tmpimg = cv2.imread(path, cv2.IMREAD_GRAYSCALE)\n",
    "    if gimg2 is None :\n",
    "        gimg2 = tmpimg.astype(np.float64)\n",
    "    else :\n",
    "        gimg2 += tmpimg.astype(np.float64)\n",
    "gimg2 /= 64\n",
    "gimg2 = gimg2.astype(np.uint8)\n",
    "cv2.imshow('gimg2', gimg2)\n",
    "cv2.imshow('gimg', gimg)\n",
    "cv2.waitKey(0)"
   ]
  },
  {
   "cell_type": "code",
   "execution_count": null,
   "id": "7594bfdd",
   "metadata": {},
   "outputs": [],
   "source": []
  },
  {
   "cell_type": "code",
   "execution_count": null,
   "id": "f182c1ae",
   "metadata": {},
   "outputs": [],
   "source": []
  }
 ],
 "metadata": {
  "kernelspec": {
   "display_name": "Python 3",
   "language": "python",
   "name": "python3"
  },
  "language_info": {
   "codemirror_mode": {
    "name": "ipython",
    "version": 3
   },
   "file_extension": ".py",
   "mimetype": "text/x-python",
   "name": "python",
   "nbconvert_exporter": "python",
   "pygments_lexer": "ipython3",
   "version": "3.8.8"
  },
  "toc": {
   "base_numbering": 1,
   "nav_menu": {},
   "number_sections": true,
   "sideBar": true,
   "skip_h1_title": false,
   "title_cell": "Table of Contents",
   "title_sidebar": "Contents",
   "toc_cell": false,
   "toc_position": {},
   "toc_section_display": true,
   "toc_window_display": false
  }
 },
 "nbformat": 4,
 "nbformat_minor": 5
}
