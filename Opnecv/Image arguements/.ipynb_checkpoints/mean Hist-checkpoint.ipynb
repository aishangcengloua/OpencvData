{
 "cells": [
  {
   "cell_type": "code",
   "execution_count": 5,
   "id": "5f729e16",
   "metadata": {},
   "outputs": [
    {
     "name": "stdout",
     "output_type": "stream",
     "text": [
      "[[214 214 214 ...   9   9   9]\n",
      " [214 214 220 ...   9   9  10]\n",
      " [200 209 209 ...  10   9  10]\n",
      " ...\n",
      " [  0   0   0 ...   0   0   1]\n",
      " [  0   0   0 ...   0   0   1]\n",
      " [  0   0   0 ...   0   0   0]]\n"
     ]
    },
    {
     "data": {
      "text/plain": [
       "-1"
      ]
     },
     "execution_count": 5,
     "metadata": {},
     "output_type": "execute_result"
    }
   ],
   "source": [
    "import copy\n",
    "import numpy as np\n",
    "import cv2\n",
    "import matplotlib.pyplot as plt\n",
    "def style_transfer(image, ref) :\n",
    "    #out = np.zeros_like(ref)\n",
    "    out = copy.deepcopy(image)\n",
    "    hist_img, _ = np.histogram(image[ : , :  ], bins = 256)\n",
    "    #生成直方图，第一个为要操作的数组，bins参数是指定统计的区间个数,代表不同的灰度级\n",
    "    #返回值是hist和bins\n",
    "    #print(hist_img)\n",
    "    #print(_)\n",
    "    hist_ref, _ = np.histogram(ref[ : , : ], 256)\n",
    "    #print(hist_img.shape)\n",
    "    cdf_img = np.cumsum(hist_img)#展平求前缀和\n",
    "    cdf_ref = np.cumsum(hist_ref)\n",
    "    \n",
    "    for j in range(256) :\n",
    "        tmp = abs(cdf_img[j] - cdf_ref)#找出在两个直方图中的映射点，即相差最小的对应灰度值\n",
    "        tmp = tmp.tolist()#将其他形式的数据转化成列表\n",
    "        idx = tmp.index(min(tmp))\n",
    "        '''for i in range(out.shape[0]) :\n",
    "            for k in range(out.shape[1]) :\n",
    "                if image[i][k] == j :\n",
    "                    out[i][k] = idx'''\n",
    "        out[image[ : , : ] == j] = idx#表示在out数组中下标为image数组中灰度值为j的地方均用idx代替\n",
    "    print(out)\n",
    "    return out\n",
    "img1 = cv2.imread('shenzhen_gray.bmp', cv2.IMREAD_GRAYSCALE)\n",
    "img2 = cv2.imread('dark-city.jpg', cv2.IMREAD_GRAYSCALE)\n",
    "img2 = cv2.resize(img2, (img1.shape[1], img1.shape[0]))\n",
    "img3 = style_transfer(img1, img2)\n",
    "#plt.hist(img3)\n",
    "#plt.show()\n",
    "\n",
    "cv2.imshow('img1', img1)\n",
    "cv2.imshow('img2', img2)\n",
    "cv2.imshow('img3', img3)\n",
    "cv2.waitKey(0)"
   ]
  },
  {
   "cell_type": "code",
   "execution_count": null,
   "id": "cf272c35",
   "metadata": {},
   "outputs": [],
   "source": []
  }
 ],
 "metadata": {
  "kernelspec": {
   "display_name": "Python 3",
   "language": "python",
   "name": "python3"
  },
  "language_info": {
   "codemirror_mode": {
    "name": "ipython",
    "version": 3
   },
   "file_extension": ".py",
   "mimetype": "text/x-python",
   "name": "python",
   "nbconvert_exporter": "python",
   "pygments_lexer": "ipython3",
   "version": "3.8.8"
  },
  "toc": {
   "base_numbering": 1,
   "nav_menu": {},
   "number_sections": true,
   "sideBar": true,
   "skip_h1_title": false,
   "title_cell": "Table of Contents",
   "title_sidebar": "Contents",
   "toc_cell": false,
   "toc_position": {},
   "toc_section_display": true,
   "toc_window_display": false
  }
 },
 "nbformat": 4,
 "nbformat_minor": 5
}
